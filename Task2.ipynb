{
 "cells": [
  {
   "cell_type": "code",
   "execution_count": 2,
   "id": "3c1b0066-5cf3-43da-b87d-ad2937bcfa2c",
   "metadata": {},
   "outputs": [
    {
     "name": "stdout",
     "output_type": "stream",
     "text": [
      "Requirement already satisfied: requests in d:\\anaconda\\anacondaprojects\\lib\\site-packages (2.32.3)\n",
      "Requirement already satisfied: beautifulsoup4 in d:\\anaconda\\anacondaprojects\\lib\\site-packages (4.12.3)\n",
      "Requirement already satisfied: charset-normalizer<4,>=2 in d:\\anaconda\\anacondaprojects\\lib\\site-packages (from requests) (3.3.2)\n",
      "Requirement already satisfied: idna<4,>=2.5 in d:\\anaconda\\anacondaprojects\\lib\\site-packages (from requests) (3.7)\n",
      "Requirement already satisfied: urllib3<3,>=1.21.1 in d:\\anaconda\\anacondaprojects\\lib\\site-packages (from requests) (2.2.3)\n",
      "Requirement already satisfied: certifi>=2017.4.17 in d:\\anaconda\\anacondaprojects\\lib\\site-packages (from requests) (2024.8.30)\n",
      "Requirement already satisfied: soupsieve>1.2 in d:\\anaconda\\anacondaprojects\\lib\\site-packages (from beautifulsoup4) (2.5)\n"
     ]
    }
   ],
   "source": [
    "!pip install requests beautifulsoup4"
   ]
  },
  {
   "cell_type": "code",
   "execution_count": null,
   "id": "1a9695d7-8a75-4ae2-b753-a241e554dba4",
   "metadata": {},
   "outputs": [
    {
     "name": "stdout",
     "output_type": "stream",
     "text": [
      "Request error occurred: 403 Client Error: Forbidden for url: https://www.uchicago.edu/sitemap.xml\n",
      "Successfully scraped content from https://www.washington.edu/\n",
      "Successfully scraped content from https://www.stanford.edu/\n",
      "Successfully scraped content from https://und.edu/\n"
     ]
    }
   ],
   "source": [
    "import requests\n",
    "from bs4 import BeautifulSoup\n",
    "\n",
    "def fetch_website_content(url):\n",
    "    headers = {\n",
    "         'User-Agent': 'Mozilla/5.0 (Windows NT 10.0; Win64; x64) AppleWebKit/537.36 (KHTML, like Gecko) Chrome/91.0.4472.124 Safari/537.36',\n",
    "        'Accept': 'text/html,application/xhtml+xml,application/xml;q=0.9,image/webp,/;q=0.8',\n",
    "        'Accept-Language': 'en-US,en;q=0.5',\n",
    "        'Accept-Encoding': 'gzip, deflate, br',\n",
    "        'Connection': 'keep-alive',\n",
    "        'Upgrade-Insecure-Requests': '1',\n",
    "        'Cache-Control': 'max-age=0',\n",
    "    }    \n",
    " #fetches and returns the text content of a site.\n",
    "    try:\n",
    "        response = requests.get(url, timeout=10)\n",
    "        response.raise_for_status() \n",
    "        soup = BeautifulSoup(response.text, 'html.parser')\n",
    "        return soup.get_text(separator=' ', strip=True)\n",
    "    \n",
    "    except requests.exceptions.SSLError as ssl_err:\n",
    "        print(f\"SSL error occurred: {ssl_err}\")\n",
    "    \n",
    "    except requests.exceptions.RequestException as req_err:\n",
    "        print(f\"Request error occurred: {req_err}\")\n",
    "    \n",
    "    except Exception as e:\n",
    "        print(f\"An error occurred: {e}\")\n",
    "\n",
    "def search_in_content(query, content_dict):\n",
    "    #Searches for a query in the scraped content and returns matching results.\n",
    "   matches=[]\n",
    "   for url, content in content_dict.items():\n",
    "       if query.lower() in content.lower():\n",
    "           matches.append((url, content))\n",
    "   return matches\n",
    "websites=[\n",
    "   \"https://www.uchicago.edu/sitemap.xml\",\n",
    "\n",
    "   \"https://www.washington.edu/\",\n",
    "\n",
    "   \"https://www.stanford.edu/\",\n",
    "\n",
    "   \"https://und.edu/\" \n",
    "]\n",
    "scraped_content = {}\n",
    "for website in websites:\n",
    "  content=fetch_website_content(website)\n",
    "  if content:\n",
    "     print(f\"Successfully scraped content from {website}\")\n",
    "     scraped_content[website]= content\n",
    "query_input= input(\"Enter your query: \")\n",
    "search_results= search_in_content(query_input, scraped_content)\n",
    "if search_results:\n",
    "    print(\"\\nResults found\")\n",
    "    for url, content in search_results:\n",
    "       print(f\"\\nFrom (url):\\n{content[:200]}...\")\n",
    "else:\n",
    "   print(\"No results found for your query.\")"
   ]
  },
  {
   "cell_type": "code",
   "execution_count": null,
   "id": "38e8b8a9-2383-40f1-a6e0-404886a06eca",
   "metadata": {},
   "outputs": [],
   "source": []
  }
 ],
 "metadata": {
  "kernelspec": {
   "display_name": "Python 3 (ipykernel)",
   "language": "python",
   "name": "python3"
  },
  "language_info": {
   "codemirror_mode": {
    "name": "ipython",
    "version": 3
   },
   "file_extension": ".py",
   "mimetype": "text/x-python",
   "name": "python",
   "nbconvert_exporter": "python",
   "pygments_lexer": "ipython3",
   "version": "3.12.7"
  }
 },
 "nbformat": 4,
 "nbformat_minor": 5
}
